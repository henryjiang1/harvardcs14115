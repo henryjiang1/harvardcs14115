{
 "cells": [
  {
   "cell_type": "markdown",
   "metadata": {},
   "source": [
    "<div style='background: #FF7B47; padding: 10px; border: thin solid darblue; border-radius: 5px; margin-bottom: 2vh'>\n",
    "    \n",
    "# Session 01 - Notebook\n",
    "\n",
    "Like most session notebooks in this course, this notebook is divided into two parts. Part one is a 'manual' that will allow you to code along with the new code that we introduce at the beginning of each session. The second part is the actual lab/assignment part, where you will work through a few practical tasks and write small but useful programs."
   ]
  },
  {
   "cell_type": "markdown",
   "metadata": {},
   "source": [
    "<div style='background: #FF7B47; padding: 10px; border: thin solid darblue; border-radius: 5px'>\n",
    "    \n",
    "## Part 1 -  Manual"
   ]
  },
  {
   "cell_type": "markdown",
   "metadata": {},
   "source": [
    "<div style='background: lightsalmon; padding: 10px; border: thin solid darblue; border-radius: 5px'>\n",
    "A.1 - \"hello, world!\""
   ]
  },
  {
   "cell_type": "code",
   "execution_count": null,
   "metadata": {},
   "outputs": [],
   "source": []
  },
  {
   "cell_type": "markdown",
   "metadata": {},
   "source": [
    "<div style='background: lightsalmon; padding: 10px; border: thin solid darblue; border-radius: 5px'>\n",
    "A.2 - basic datatypes - strings and numeric variables"
   ]
  },
  {
   "cell_type": "code",
   "execution_count": 2,
   "metadata": {},
   "outputs": [],
   "source": [
    "# your code here"
   ]
  },
  {
   "cell_type": "markdown",
   "metadata": {},
   "source": [
    "<div style='background: lightsalmon; padding: 10px; border: thin solid darblue; border-radius: 5px'>\n",
    "A.3 - basic operations"
   ]
  },
  {
   "cell_type": "code",
   "execution_count": 3,
   "metadata": {},
   "outputs": [],
   "source": [
    "# your code here"
   ]
  },
  {
   "cell_type": "markdown",
   "metadata": {},
   "source": [
    "<div style='background: lightsalmon; padding: 10px; border: thin solid darblue; border-radius: 5px'>\n",
    "A.4 - advanced data types to store collections of data"
   ]
  },
  {
   "cell_type": "code",
   "execution_count": 4,
   "metadata": {},
   "outputs": [],
   "source": [
    "# your code here - lists"
   ]
  },
  {
   "cell_type": "code",
   "execution_count": 5,
   "metadata": {},
   "outputs": [],
   "source": [
    "# your code here - dictionaries"
   ]
  },
  {
   "cell_type": "markdown",
   "metadata": {},
   "source": [
    "<div style='background: lightsalmon; padding: 10px; border: thin solid darblue; border-radius: 5px'>\n",
    "A.5 - for loops"
   ]
  },
  {
   "cell_type": "code",
   "execution_count": 6,
   "metadata": {},
   "outputs": [],
   "source": [
    "# your code here"
   ]
  },
  {
   "cell_type": "markdown",
   "metadata": {},
   "source": [
    "<div style='background: lightsalmon; padding: 10px; border: thin solid darblue; border-radius: 5px'>\n",
    "A.6 - Python If ... Else"
   ]
  },
  {
   "cell_type": "code",
   "execution_count": 7,
   "metadata": {},
   "outputs": [],
   "source": [
    "# your code here"
   ]
  },
  {
   "cell_type": "markdown",
   "metadata": {},
   "source": [
    "<div style='background: lightsalmon; padding: 10px; border: thin solid darblue; border-radius: 5px'>\n",
    "A.6 - Functions"
   ]
  },
  {
   "cell_type": "code",
   "execution_count": 8,
   "metadata": {},
   "outputs": [],
   "source": [
    "# Your code here"
   ]
  },
  {
   "cell_type": "markdown",
   "metadata": {},
   "source": [
    "<div style='background: #6A9EB4; padding: 10px; border: thin solid darblue; border-radius: 5px'>\n",
    "\n",
    "## Part 2 - Lab\n",
    "    \n",
    "During today's lab you will write code that will help the College to perform the house lottery more efficiently and assist the house administrations in a variety of tasks."
   ]
  },
  {
   "cell_type": "markdown",
   "metadata": {},
   "source": [
    "<div style='background: #ADCAD6; padding: 10px; border: thin solid darblue; border-radius: 5px'>\n",
    "\n",
    "## Task #1 - automatize the house lottery\n",
    "\n",
    "In the precirculated template folder, you will find the file students.csv with all rising sophomores that will enter the house lottery, i.e. they will get assigned to one of the twelve undergraduate houses. So far, the college has done this task manually but they hope that you can help them to automtize that process. Please load the csv and add another column 'house_id'. Pyhton's csv package will come in handy to load the csv file and treat each row as a list. Having loaded the file, add a random house id to each student and save that information in a new csv file. You might find the python package 'random' quite useful to automatize the lottery process. We've imported the package for you and provided an example.\n"
   ]
  },
  {
   "cell_type": "markdown",
   "metadata": {},
   "source": [
    "<div style='background: #ADCAD6; padding: 10px; border: thin solid darblue; border-radius: 5px'>\n",
    "Examples and precirculated code:"
   ]
  },
  {
   "cell_type": "code",
   "execution_count": 9,
   "metadata": {},
   "outputs": [],
   "source": [
    "# house ids lookup tables\n",
    "\n",
    "house_to_id = {\n",
    "    'Adams House': 0,\n",
    "    'Cabot House': 1,\n",
    "    'Currier House' : 2,\n",
    "    'Dunster House': 3,\n",
    "    'Eliot House': 4,\n",
    "    'Kirkland House': 5,\n",
    "    'Leverett House': 6,\n",
    "    'Lowell House': 7,\n",
    "    'Mather House': 8,\n",
    "    'Pforzheimer House':9,\n",
    "    'Quincy House': 10,\n",
    "    'Winthrop House': 11\n",
    "}\n",
    "\n",
    "id_to_house = {\n",
    "    0: 'Adams House',\n",
    "    1: 'Cabot House',\n",
    "    2: 'Currier House',\n",
    "    3: 'Dunster House',\n",
    "    4: 'Eliot House',\n",
    "    5: 'Kirkland House',\n",
    "    6: 'Leverett House',\n",
    "    7: 'Lowell House',\n",
    "    8: 'Mather House',\n",
    "    9: 'Pforzheimer House',\n",
    "    10: 'Quincy House',\n",
    "    11: 'Winthrop House'\n",
    "}"
   ]
  },
  {
   "cell_type": "code",
   "execution_count": 10,
   "metadata": {},
   "outputs": [],
   "source": [
    "# importing useful python packages\n",
    "import random\n",
    "import csv"
   ]
  },
  {
   "cell_type": "code",
   "execution_count": 11,
   "metadata": {},
   "outputs": [
    {
     "name": "stdout",
     "output_type": "stream",
     "text": [
      "['Oona', 'Swigart', '16076420', 'Oona.Swigart@college.harvard.edu']\n"
     ]
    }
   ],
   "source": [
    "# some example code snippets how to load a csv file and how to write into one\n",
    "\n",
    "# read\n",
    "file_read = open(\"data/students.csv\", \"r\")\n",
    "reader = csv.reader(file_read)\n",
    "\n",
    "for row in reader:\n",
    "    print(row)\n",
    "    break # breaking after first element feel free to check out the entire data stucture\n",
    "    \n",
    "file_read.close()\n",
    "\n",
    "# write - notice that the file doesn't have to exist beforehand! csv write will create the file automatically, which is very useful!\n",
    "file_write = open('students_with_house.csv', 'w', newline='')\n",
    "\n",
    "writer = csv.writer(file_write)\n",
    "\n",
    "# we just write one row here. It might be useful to put this line into a loop when automatizing things\n",
    "writer.writerow(['first_name', 'last_name', 'HUID','email', 'house_id'])\n",
    "\n",
    "file_write.close()\n",
    "\n"
   ]
  },
  {
   "cell_type": "code",
   "execution_count": 12,
   "metadata": {},
   "outputs": [
    {
     "name": "stdout",
     "output_type": "stream",
     "text": [
      "1\n"
     ]
    }
   ],
   "source": [
    "# example - generate a random integer between 1 and 10.\n",
    "example_random = random.randint(1,10)\n",
    "print(example_random)"
   ]
  },
  {
   "cell_type": "markdown",
   "metadata": {},
   "source": [
    "<div style='background: #ADCAD6; padding: 10px; border: thin solid darblue; border-radius: 5px'>\n",
    "Your turn - load the csv file, create a random number for each student between 0-11 and store all students in a new csv file with their respective house assignments. A for loop might come in handy."
   ]
  },
  {
   "cell_type": "code",
   "execution_count": 13,
   "metadata": {},
   "outputs": [],
   "source": [
    "# your code here"
   ]
  },
  {
   "cell_type": "markdown",
   "metadata": {},
   "source": [
    "<div style='background: #ADCAD6; padding: 10px; border: thin solid darblue; border-radius: 5px'>\n",
    "Write a small program that makes sure that you've successfully created and populated a csv with all students and their assigned houses."
   ]
  },
  {
   "cell_type": "code",
   "execution_count": 1,
   "metadata": {
    "scrolled": true
   },
   "outputs": [],
   "source": [
    "# your code here"
   ]
  },
  {
   "cell_type": "markdown",
   "metadata": {},
   "source": [
    "<div style='background: #ADCAD6; padding: 10px; border: thin solid darblue; border-radius: 5px'>\n",
    "\n",
    "## Task #2 - generate a file for a house on demand\n",
    "\n",
    "OK, you've helped the college out with the lottery but now the house administrators are struggling a bit because they have all 2000 students in one file but only care about the students that were assigned to their particular house. Write a small programm that solves that task on demand and generates a csv for them with only their students. You can write a program that does this task on demand for a given house, or you can generate a csv for each house in advance.\n"
   ]
  },
  {
   "cell_type": "code",
   "execution_count": 2,
   "metadata": {},
   "outputs": [],
   "source": [
    "# your code here"
   ]
  },
  {
   "cell_type": "markdown",
   "metadata": {},
   "source": [
    "<div style='background: #CBE0A4; padding: 10px; border: thin solid darblue; border-radius: 5px'>\n",
    "\n",
    "## Bonus Tasks\n",
    "    \n",
    "1. calculate vacant rooms per house\n",
    "2. write a program that computes the number of students assigned per house in a given csv\n",
    "3. write a function that checks whether there are problems with the numbers of students assigned to each house\n",
    "4. write code that assigns students randomly but in such a way that there are no capacity issues."
   ]
  },
  {
   "cell_type": "markdown",
   "metadata": {},
   "source": [
    "<div style='background: #CBE0A4; padding: 10px; border: thin solid darblue; border-radius: 5px'>\n",
    "Some house administrators have complaned that the list of students is too long to accomodate all new sophomores assigned to their houses. Since some houses are bigger and others are smaller, we cannot simply generate integers and get away with the randomly generated number of students in each house. Rather, we have to check more carefolly whether there is still capacity. Below, find two useful dictionaries hat should help you to solve this task."
   ]
  },
  {
   "cell_type": "code",
   "execution_count": 56,
   "metadata": {},
   "outputs": [],
   "source": [
    "# bonus is house with exact capacities\n",
    "\n",
    "house_capacity = {\n",
    "    'Adams House': 411,\n",
    "    'Cabot House': 362,\n",
    "    'Currier House' : 356,\n",
    "    'Dunster House': 428,\n",
    "    'Eliot House': 450,\n",
    "    'Kirkland House': 400,\n",
    "    'Leverett House': 480,\n",
    "    'Lowell House': 450,\n",
    "    'Mather House': 426,\n",
    "    'Pforzheimer House':360,\n",
    "    'Quincy House': 420,\n",
    "    'Winthrop House': 500\n",
    "}\n",
    "\n",
    "# number of occupied rooms after seniors have left\n",
    "house_occupied = {\n",
    "    'Adams House': 236,\n",
    "    'Cabot House': 213,\n",
    "    'Currier House' : 217,\n",
    "    'Dunster House': 296,\n",
    "    'Eliot House': 288,\n",
    "    'Kirkland House': 224,\n",
    "    'Leverett House': 233,\n",
    "    'Lowell House': 242,\n",
    "    'Mather House': 217,\n",
    "    'Pforzheimer House':195,\n",
    "    'Quincy House': 253,\n",
    "    'Winthrop House': 310\n",
    "}"
   ]
  },
  {
   "cell_type": "markdown",
   "metadata": {},
   "source": [
    "<div style='background: #CBE0A4; padding: 10px; border: thin solid darblue; border-radius: 5px'>Let's start by writing a small program that helps us to calculate the vacant rooms for each house. Try to use a dictionary structure that contains all information for each house. Feel free to also write a few lines that check how many vacant rooms there are in total."
   ]
  },
  {
   "cell_type": "code",
   "execution_count": 5,
   "metadata": {},
   "outputs": [
    {
     "name": "stdout",
     "output_type": "stream",
     "text": [
      "{}\n"
     ]
    }
   ],
   "source": [
    "vacant_rooms = {}\n",
    "\n",
    "# your code here\n",
    "\n",
    "# your code ends here\n",
    "\n",
    "print(vacant_rooms)"
   ]
  },
  {
   "cell_type": "code",
   "execution_count": 6,
   "metadata": {},
   "outputs": [],
   "source": [
    "# your code here"
   ]
  },
  {
   "cell_type": "markdown",
   "metadata": {},
   "source": [
    "<div style='background: #CBE0A4; padding: 10px; border: thin solid darblue; border-radius: 5px'>Let's now write a small function that calculates the number of students assigned per house with our old method and returns a dictionary with that information"
   ]
  },
  {
   "cell_type": "code",
   "execution_count": 59,
   "metadata": {},
   "outputs": [],
   "source": [
    "def calculate_students_per_house(filename):\n",
    "\n",
    "    # helper dict\n",
    "    helper_dict = {}\n",
    "\n",
    "    # your code here\n",
    "    \n",
    "    \n",
    "    \n",
    "    \n",
    "    # your code ends here\n",
    "\n",
    "    return helper_dict\n",
    "    "
   ]
  },
  {
   "cell_type": "markdown",
   "metadata": {},
   "source": [
    "<div style='background: #CBE0A4; padding: 10px; border: thin solid darblue; border-radius: 5px'>Next, let's check by how much we were off for each house with our random approach. "
   ]
  },
  {
   "cell_type": "code",
   "execution_count": 61,
   "metadata": {},
   "outputs": [],
   "source": [
    "def house_assignment_check(assignements_per_house_dict):\n",
    "    \n",
    "    # your code here\n",
    "                "
   ]
  },
  {
   "cell_type": "markdown",
   "metadata": {},
   "source": [
    "<div style='background: #CBE0A4; padding: 10px; border: thin solid darblue; border-radius: 5px'>Finally, let's write a function that assignes houses more carefully. We can still generate random integers to assign a house, but we need to check whether that house still has capacity. For that reason, please create a function called assign_house() that generates not only a random number, but also checks whether that number is valid, i.e. if that house still has capacity. If there's no capacity, that function should call itself again until it generates a house (id) that still has capacity."
   ]
  },
  {
   "cell_type": "code",
   "execution_count": 63,
   "metadata": {},
   "outputs": [],
   "source": [
    "# solution\n",
    "\n",
    "def assign_house():\n",
    "    \n",
    "    house_id = random.randint(0,11)\n",
    "    house_name = id_to_house[house_id]\n",
    "    \n",
    "    \n",
    "    # your code here!\n",
    "    \n",
    "    # check capacity\n",
    "    if ...\n",
    "        \n",
    "    else ...\n",
    "    \n",
    "    # your code ends here\n",
    "    "
   ]
  },
  {
   "cell_type": "code",
   "execution_count": 4,
   "metadata": {},
   "outputs": [],
   "source": [
    "# next, load the students.csv file, read it row by row and use the \"assign_house()\" function to generate a house for each student.\n",
    "\n",
    "# your code here\n"
   ]
  },
  {
   "cell_type": "code",
   "execution_count": 3,
   "metadata": {},
   "outputs": [],
   "source": [
    "# finally, check whether your new solution is working flawlesly\n",
    "\n",
    "# your code here"
   ]
  },
  {
   "cell_type": "code",
   "execution_count": null,
   "metadata": {},
   "outputs": [],
   "source": []
  },
  {
   "cell_type": "code",
   "execution_count": null,
   "metadata": {},
   "outputs": [],
   "source": []
  }
 ],
 "metadata": {
  "kernelspec": {
   "display_name": "Python 3",
   "language": "python",
   "name": "python3"
  },
  "language_info": {
   "codemirror_mode": {
    "name": "ipython",
    "version": 3
   },
   "file_extension": ".py",
   "mimetype": "text/x-python",
   "name": "python",
   "nbconvert_exporter": "python",
   "pygments_lexer": "ipython3",
   "version": "3.7.6"
  }
 },
 "nbformat": 4,
 "nbformat_minor": 4
}
